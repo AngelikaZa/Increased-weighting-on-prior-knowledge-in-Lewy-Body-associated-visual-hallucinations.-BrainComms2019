{
 "cells": [
  {
   "cell_type": "markdown",
   "metadata": {},
   "source": [
    "## Data Analysis\n",
    "\n",
    "Author: A. Zarkali\n",
    "Date: 22nd Feb 2019\n",
    "Purpose: Completes all data analysis and plots for Priors Experiment"
   ]
  },
  {
   "cell_type": "markdown",
   "metadata": {},
   "source": [
    "### Import libraries and load data"
   ]
  },
  {
   "cell_type": "code",
   "execution_count": 1,
   "metadata": {},
   "outputs": [],
   "source": [
    "# Import all necessary libraries\n",
    "import pandas as pd\n",
    "import numpy as np\n",
    "import matplotlib as plt\n",
    "import scipy.stats as stats\n",
    "from scipy.stats import norm\n",
    "from scipy.stats import shapiro\n",
    "from math import exp,sqrt\n",
    "import statsmodels.api as sm\n",
    "import statsmodels.formula.api as smf\n",
    "from statsmodels.formula.api import ols\n",
    "import scikit_posthocs as sp\n",
    "import seaborn as sns\n",
    "\n",
    "\n",
    "# Enable inline plotting\n",
    "%matplotlib inline"
   ]
  },
  {
   "cell_type": "code",
   "execution_count": 2,
   "metadata": {},
   "outputs": [],
   "source": [
    "# Create data frame for the whole dataset\n",
    "df = pd.read_excel(r\"C:\\Users\\Angelika\\Dropbox\\PhD\\EXPERIMENTS\\01_PriorsAmbiguousStimul\\CombinedDataPriors.xlsx\")"
   ]
  },
  {
   "cell_type": "code",
   "execution_count": 3,
   "metadata": {},
   "outputs": [],
   "source": [
    "# Create dataframe for the subplots\n",
    "group_df = pd.read_excel(r\"C:\\Users\\Angelika\\Dropbox\\PhD\\EXPERIMENTS\\01_PriorsAmbiguousStimul\\SplitAnalysis.xlsx\")"
   ]
  },
  {
   "cell_type": "markdown",
   "metadata": {},
   "source": [
    "### Calculate Signal Detection theory measures\n",
    "\n",
    "Here, we calculate d', c and beta for each subject.\n",
    "\n",
    "    Hit: Signal present and response\n",
    "    Miss: Signal present and no response\n",
    "    False Alarm: No signal and response\n",
    "    Correct Rejection: No signal and no response\n",
    "\n",
    "In our experiment, signal is considered the presence of a person in the two-tone \"Mooney\" image. \n",
    "\n",
    "    HR: Hit Rate, the probability of a signal being detected. HR = Hit when Signal/Signals\n",
    "    FA: False Alarm Rate, the probablitiy of response in the absence of signal. FA = Hits when no Signal/No Signals\n",
    "\n",
    "\n",
    "To avoid infinite values, we replace 0 and 1 values with half FA or half HR accordingly."
   ]
  },
  {
   "cell_type": "code",
   "execution_count": 4,
   "metadata": {},
   "outputs": [],
   "source": [
    "Z = norm.ppf\n",
    "\n",
    "#Flooring on ceilings:\n",
    "halfH = 0.5 / 30 #(30 = hits + misses when signal present)\n",
    "halfFA = 0.5 / 30 #(30 = false alarms + correct rejections)\n",
    "new = 1 - halfH\n",
    "\n",
    "#Find and replace HR and FA ==1 to avoid infinite values\n",
    "df[\"MooneyPreH\"] = df[\"MooneyPreH\"].replace(1, new)\n",
    "df[\"MooneyPreFA\"] = df[\"MooneyPreFA\"].replace(1, new)\n",
    "df[\"MooneyPostH\"] = df[\"MooneyPostH\"].replace(1, new)\n",
    "df[\"MooneyPostFA\"] = df[\"MooneyPostFA\"].replace(1, new)\n",
    "#Find and replace HR and FA ==0 to avoid infinite values\n",
    "df[\"MooneyPreH\"] = df[\"MooneyPreH\"].replace(0, halfH)\n",
    "df[\"MooneyPreFA\"] = df[\"MooneyPreFA\"].replace(0, halfFA)\n",
    "df[\"MooneyPostH\"] = df[\"MooneyPostH\"].replace(0, halfH)\n",
    "df[\"MooneyPostFA\"] = df[\"MooneyPostFA\"].replace(0, halfFA)\n",
    "\n",
    "#Calculate d prime\n",
    "df[\"PreD\"] = Z(df.MooneyPreH) - Z(df.MooneyPreFA)\n",
    "df[\"PostD\"] = Z(df.MooneyPostH) - Z(df.MooneyPostFA)\n",
    "df[\"ImprovD\"] = df.PostD - df.PreD\n",
    "\n",
    "#Calculate beta\n",
    "# df[\"PreBeta\"] = exp((Z(df.MooneyPreFA) **2 - Z(df.MooneyPreH) **2)/2)\n",
    "# df[\"PostBeta\"] = exp(Z((df.MooneyPostFA)(df.MooneyPostFA)) - (Z(df.MooneyPostH)(df.MooneyPostH))/2)\n",
    "# df[\"ImprovBeta\"] = df.PostBeta - df.PreBeta\n",
    "\n",
    "#Calculate c\n",
    "df[\"PreC\"] = - (Z(df.MooneyPreH) + Z(df.MooneyPreFA))/2\n",
    "df[\"PostC\"] = - (Z(df.MooneyPostH) + Z(df.MooneyPostFA))/2\n",
    "df[\"ImprovC\"] = df.PostC - df.PreC\n",
    "                    \n",
    "#Calculate Ad\n",
    "df[\"PreAd\"] = norm.cdf(df[\"PreD\"]/sqrt(2))\n",
    "df[\"PostAd\"] = norm.cdf(df[\"PostD\"]/sqrt(2))\n",
    "df[\"ImprovAd\"] = df.PostAd - df.PreAd\n",
    "\n",
    "#Calculate Change in FA and HR\n",
    "df[\"ImprovH\"] = df.MooneyPostH - df.MooneyPreH\n",
    "df[\"ImprovFA\"] = df.MooneyPostFA - df.MooneyPreFA"
   ]
  },
  {
   "cell_type": "markdown",
   "metadata": {},
   "source": [
    "##### Define function for calculating effect sizes\n",
    "\n",
    "Hedges g for parametric test (t-test)\n",
    "Correlation coefficient r for non-parametric (Mann-Whitney)\n",
    "\n",
    "References:\n",
    "- Robert Rosenthal. The hand-book of research synthesis, chapter Parametric measures of effect size, pages 231–244. New York, NY: Russel Sage Foundation, 1994. \n",
    "- Larry Hedges and Ingram Olkin. Journal of Educational Statistics, chapter Statistical Methods in Meta-Analysis. Volume 20. Academic Press, Inc., 1985, 10.2307/1164953."
   ]
  },
  {
   "cell_type": "code",
   "execution_count": 5,
   "metadata": {},
   "outputs": [],
   "source": [
    "from numpy import std, mean, sqrt\n",
    "\n",
    "# Hedges g:\n",
    "def hedges(x,y,t):\n",
    "    nx = len(x)\n",
    "    ny = len(y)\n",
    "    d = t*(sqrt(1/nx + 1/ny))\n",
    "    g = d*(1 - 3/(4*(nx + ny - 9)))\n",
    "    return g"
   ]
  },
  {
   "cell_type": "code",
   "execution_count": 6,
   "metadata": {},
   "outputs": [],
   "source": [
    "# Correlation r:\n",
    "def corcoef(x,y,u):\n",
    "    m_u = len(x)*len(y)/2\n",
    "    sigma_u = np.sqrt(len(x)*len(y)*(len(x)+len(y)+1)/12)\n",
    "    z = (u - m_u)/sigma_u\n",
    "    return z/np.sqrt(len(x)+len(y))"
   ]
  },
  {
   "cell_type": "markdown",
   "metadata": {},
   "source": [
    "### Dataset descriptive statistics\n",
    "\n",
    "Here we explore the data split per our three population groups and perform visual and statistical normality tests. \n",
    "\n",
    "\n",
    "First we group the dataframe according to PD diagnosis: \n",
    "\n",
    "    0 healthy controls, 1 PD/DLB non hallucinators, 2 PD/DLB hallucinators\n",
    "    \n",
    "and export mean and sd of the three group across all variables in csv. "
   ]
  },
  {
   "cell_type": "code",
   "execution_count": 8,
   "metadata": {},
   "outputs": [],
   "source": [
    "# Export descriptive statistics of the dataset grouped by PD diagnosis\n",
    "groupdf = df.groupby(\"PD\")\n",
    "# groupdf.mean().reset_index().to_csv(\"GroupedMean.csv\")\n",
    "# groupdf.std().reset_index().to_csv(\"GroupedSD.csv\")\n",
    "# df.to_csv(\"Edit.csv\")"
   ]
  },
  {
   "cell_type": "markdown",
   "metadata": {},
   "source": [
    "##### Normality tests"
   ]
  },
  {
   "cell_type": "markdown",
   "metadata": {},
   "source": [
    "Visual inspection of data distribution"
   ]
  },
  {
   "cell_type": "code",
   "execution_count": 5,
   "metadata": {},
   "outputs": [
    {
     "data": {
      "image/png": "[encoded data removed]",
      "text/plain": [
       "<Figure size 432x288 with 1 Axes>"
      ]
     },
     "metadata": {},
     "output_type": "display_data"
    }
   ],
   "source": [
    "# Serially inspect each dependent variable (d', percentage correct, reaction time, etc) \n",
    "                                        #to check distribution across the dataset\n",
    "df_PDonly = df[df.PD == 1] # only PD/DLB participants without hallucinations\n",
    "df_VHonly = df[df.PD == 2] # only PD/DLB participants with hallucinations\n",
    "df_Controlonly = df[df.PD == 0] # only controls\n",
    "\n",
    "sns.set_style(\"ticks\")\n",
    "Plot = sns.distplot(df_Controlonly[\"PreD\"].dropna())\n",
    "                    \n",
    "# Change to the df_PD database if want to "
   ]
  },
  {
   "cell_type": "markdown",
   "metadata": {},
   "source": [
    "Quantitative test: Shapiro Wilk\n",
    "\n",
    "If p >0.05, then the data has a Gaussian distribution"
   ]
  },
  {
   "cell_type": "code",
   "execution_count": 103,
   "metadata": {},
   "outputs": [
    {
     "name": "stdout",
     "output_type": "stream",
     "text": [
      "0.963969349861145 0.08746964484453201\n"
     ]
    }
   ],
   "source": [
    "#Shapiro-Wilk test\n",
    "#testdf = df[df.SmellTest.notnull()] # to drop NA values in specific column\n",
    "variable = df[\"ImprovD\"].dropna()\n",
    "stat, p = shapiro(variable)\n",
    "print(stat,p)"
   ]
  },
  {
   "cell_type": "markdown",
   "metadata": {},
   "source": [
    "### Whole cohort performance comparison\n",
    "\n",
    "Here we compare the performance in terms of d'prime, percentage correct, RT and criterion across the whole cohort"
   ]
  },
  {
   "cell_type": "code",
   "execution_count": 17,
   "metadata": {},
   "outputs": [
    {
     "data": {
      "text/plain": [
       "Ttest_indResult(statistic=4.119831663762788, pvalue=7.289739212828017e-05)"
      ]
     },
     "execution_count": 17,
     "metadata": {},
     "output_type": "execute_result"
    }
   ],
   "source": [
    "# t test\n",
    "v1 = df.MooneyPostCorrect #Change variable with other variables sequentially\n",
    "v2 = df.MooneyPreCorrect #Change variable with other variables sequentially\n",
    "\n",
    "stats.ttest_ind(v1, v2, nan_policy=\"omit\")"
   ]
  },
  {
   "cell_type": "code",
   "execution_count": 11,
   "metadata": {},
   "outputs": [
    {
     "data": {
      "text/plain": [
       "0.7662342322522921"
      ]
     },
     "execution_count": 11,
     "metadata": {},
     "output_type": "execute_result"
    }
   ],
   "source": [
    "# effect size hedges\n",
    "hedges(df.MooneyPostCorrect,df.MooneyPreCorrect, 4.12) # need to manually enter the t test from above \n",
    "                                                        # as the last variable"
   ]
  },
  {
   "cell_type": "code",
   "execution_count": 108,
   "metadata": {},
   "outputs": [
    {
     "data": {
      "text/plain": [
       "MannwhitneyuResult(statistic=1140.0, pvalue=0.002848405798545483)"
      ]
     },
     "execution_count": 108,
     "metadata": {},
     "output_type": "execute_result"
    }
   ],
   "source": [
    "# Mann-whitney test\n",
    "# Compare performance in pre/post HR and FA in whole cohort\n",
    "stats.mannwhitneyu(df.MooneyPostH, df.MooneyPreH)"
   ]
  },
  {
   "cell_type": "code",
   "execution_count": 13,
   "metadata": {},
   "outputs": [
    {
     "data": {
      "text/plain": [
       "-0.25185503541861093"
      ]
     },
     "execution_count": 13,
     "metadata": {},
     "output_type": "execute_result"
    }
   ],
   "source": [
    "# effect size r\n",
    "corcoef(df.MooneyPostH, df.MooneyPostH, 1150)"
   ]
  },
  {
   "cell_type": "markdown",
   "metadata": {},
   "source": [
    "And testing each individual group for performance improvement"
   ]
  },
  {
   "cell_type": "code",
   "execution_count": 10,
   "metadata": {},
   "outputs": [
    {
     "data": {
      "text/plain": [
       "Ttest_indResult(statistic=-1.3516884413994559, pvalue=0.18514666978625388)"
      ]
     },
     "execution_count": 10,
     "metadata": {},
     "output_type": "execute_result"
    }
   ],
   "source": [
    "# t test\n",
    "df_PDonly = df[df.PD == 1] # only PD/DLB participants without hallucinations\n",
    "df_VHonly = df[df.PD == 2] # only PD/DLB participants with hallucinations\n",
    "df_Controlonly = df[df.PD == 0] # only controls\n",
    "\n",
    "v1 = df_PDonly.ImprovH #Change variable with other variables sequentially\n",
    "v2 = df_VHonly.ImprovH #Change variable with other variables sequentially\n",
    "\n",
    "stats.ttest_ind(v1, v2, nan_policy=\"omit\")"
   ]
  },
  {
   "cell_type": "markdown",
   "metadata": {},
   "source": [
    "Check for differences between DLB and non DLB participants"
   ]
  },
  {
   "cell_type": "code",
   "execution_count": 6,
   "metadata": {},
   "outputs": [
    {
     "data": {
      "text/plain": [
       "Ttest_indResult(statistic=-0.2427321960194433, pvalue=0.8115006573309012)"
      ]
     },
     "execution_count": 6,
     "metadata": {},
     "output_type": "execute_result"
    }
   ],
   "source": [
    "# Compare DLB with the rest\n",
    "df_totalDLB = df[df.DLB == 1]\n",
    "df_DLBVH = df[(df.DLB == 1) & (df.PD == 2)]\n",
    "df_DLBonly = df[(df.DLB == 1) & (df.PD == 1)]\n",
    "df_PDVHonly = df[(df.PD == 2) & (df.DLB == 0)]\n",
    "df_PDnonVHonly = df[(df.PD == 1) & (df.DLB == 0)]\n",
    "df_PD = df[(df.DLB != 1) & (df.PD !=0)]\n",
    "\n",
    "v1 = df_DLBVH.PreD\n",
    "v2 = df_PDVHonly.PreD\n",
    "stats.ttest_ind(v1, v2, nan_policy=\"omit\")"
   ]
  },
  {
   "cell_type": "code",
   "execution_count": 16,
   "metadata": {},
   "outputs": [
    {
     "data": {
      "text/plain": [
       "0.26822555030450546"
      ]
     },
     "execution_count": 16,
     "metadata": {},
     "output_type": "execute_result"
    }
   ],
   "source": [
    "df_PDnonVHonly.ImprovD.mean()"
   ]
  },
  {
   "cell_type": "code",
   "execution_count": 145,
   "metadata": {},
   "outputs": [
    {
     "data": {
      "text/plain": [
       "Ttest_indResult(statistic=-0.30204294181520097, pvalue=0.7644069191529207)"
      ]
     },
     "execution_count": 145,
     "metadata": {},
     "output_type": "execute_result"
    }
   ],
   "source": [
    "# t test excluding DLB\n",
    "v1 = df_totalDLB.LEDD #Change variable with other variables sequentially\n",
    "v2 = df_PD.LEDD #Change variable with other variables sequentially\n",
    "\n",
    "stats.ttest_ind(v1, v2, nan_policy=\"omit\")"
   ]
  },
  {
   "cell_type": "code",
   "execution_count": 168,
   "metadata": {},
   "outputs": [
    {
     "data": {
      "text/plain": [
       "MannwhitneyuResult(statistic=20.0, pvalue=0.47396094181116477)"
      ]
     },
     "execution_count": 168,
     "metadata": {},
     "output_type": "execute_result"
    }
   ],
   "source": [
    "# Mann Whitney test excluding DLB\n",
    "v1 = df_DLBVH.HADSdepression\n",
    "v2 = df_PDVHonly.HADSdepression\n",
    "\n",
    "stats.mannwhitneyu(v1, v2)"
   ]
  },
  {
   "cell_type": "code",
   "execution_count": 124,
   "metadata": {},
   "outputs": [
    {
     "data": {
      "text/plain": [
       "28.875"
      ]
     },
     "execution_count": 124,
     "metadata": {},
     "output_type": "execute_result"
    }
   ],
   "source": [
    "df_PD.MMSE.mean()"
   ]
  },
  {
   "cell_type": "code",
   "execution_count": 22,
   "metadata": {},
   "outputs": [
    {
     "name": "stderr",
     "output_type": "stream",
     "text": [
      "C:\\Users\\Angelika\\Anaconda3\\lib\\site-packages\\scipy\\stats\\stats.py:1394: UserWarning: kurtosistest only valid for n>=20 ... continuing anyway, n=14\n",
      "  \"anyway, n=%i\" % int(n))\n"
     ]
    },
    {
     "data": {
      "text/html": [
       "<table class=\"simpletable\">\n",
       "<caption>OLS Regression Results</caption>\n",
       "<tr>\n",
       "  <th>Dep. Variable:</th>         <td>MiamiVH</td>     <th>  R-squared:         </th> <td>   0.752</td>\n",
       "</tr>\n",
       "<tr>\n",
       "  <th>Model:</th>                   <td>OLS</td>       <th>  Adj. R-squared:    </th> <td>   0.733</td>\n",
       "</tr>\n",
       "<tr>\n",
       "  <th>Method:</th>             <td>Least Squares</td>  <th>  F-statistic:       </th> <td>   39.46</td>\n",
       "</tr>\n",
       "<tr>\n",
       "  <th>Date:</th>             <td>Wed, 29 May 2019</td> <th>  Prob (F-statistic):</th> <td>2.83e-05</td>\n",
       "</tr>\n",
       "<tr>\n",
       "  <th>Time:</th>                 <td>21:11:03</td>     <th>  Log-Likelihood:    </th> <td> -33.371</td>\n",
       "</tr>\n",
       "<tr>\n",
       "  <th>No. Observations:</th>      <td>    14</td>      <th>  AIC:               </th> <td>   68.74</td>\n",
       "</tr>\n",
       "<tr>\n",
       "  <th>Df Residuals:</th>          <td>    13</td>      <th>  BIC:               </th> <td>   69.38</td>\n",
       "</tr>\n",
       "<tr>\n",
       "  <th>Df Model:</th>              <td>     1</td>      <th>                     </th>     <td> </td>   \n",
       "</tr>\n",
       "<tr>\n",
       "  <th>Covariance Type:</th>      <td>nonrobust</td>    <th>                     </th>     <td> </td>   \n",
       "</tr>\n",
       "</table>\n",
       "<table class=\"simpletable\">\n",
       "<tr>\n",
       "     <td></td>        <th>coef</th>     <th>std err</th>      <th>t</th>      <th>P>|t|</th>  <th>[0.025</th>    <th>0.975]</th>  \n",
       "</tr>\n",
       "<tr>\n",
       "  <th>ImprovD</th> <td>    6.2346</td> <td>    0.993</td> <td>    6.282</td> <td> 0.000</td> <td>    4.090</td> <td>    8.379</td>\n",
       "</tr>\n",
       "</table>\n",
       "<table class=\"simpletable\">\n",
       "<tr>\n",
       "  <th>Omnibus:</th>       <td>11.581</td> <th>  Durbin-Watson:     </th> <td>   1.887</td>\n",
       "</tr>\n",
       "<tr>\n",
       "  <th>Prob(Omnibus):</th> <td> 0.003</td> <th>  Jarque-Bera (JB):  </th> <td>   7.345</td>\n",
       "</tr>\n",
       "<tr>\n",
       "  <th>Skew:</th>          <td>-1.437</td> <th>  Prob(JB):          </th> <td>  0.0254</td>\n",
       "</tr>\n",
       "<tr>\n",
       "  <th>Kurtosis:</th>      <td> 5.083</td> <th>  Cond. No.          </th> <td>    1.00</td>\n",
       "</tr>\n",
       "</table><br/><br/>Warnings:<br/>[1] Standard Errors assume that the covariance matrix of the errors is correctly specified."
      ],
      "text/plain": [
       "<class 'statsmodels.iolib.summary.Summary'>\n",
       "\"\"\"\n",
       "                            OLS Regression Results                            \n",
       "==============================================================================\n",
       "Dep. Variable:                MiamiVH   R-squared:                       0.752\n",
       "Model:                            OLS   Adj. R-squared:                  0.733\n",
       "Method:                 Least Squares   F-statistic:                     39.46\n",
       "Date:                Wed, 29 May 2019   Prob (F-statistic):           2.83e-05\n",
       "Time:                        21:11:03   Log-Likelihood:                -33.371\n",
       "No. Observations:                  14   AIC:                             68.74\n",
       "Df Residuals:                      13   BIC:                             69.38\n",
       "Df Model:                           1                                         \n",
       "Covariance Type:            nonrobust                                         \n",
       "==============================================================================\n",
       "                 coef    std err          t      P>|t|      [0.025      0.975]\n",
       "------------------------------------------------------------------------------\n",
       "ImprovD        6.2346      0.993      6.282      0.000       4.090       8.379\n",
       "==============================================================================\n",
       "Omnibus:                       11.581   Durbin-Watson:                   1.887\n",
       "Prob(Omnibus):                  0.003   Jarque-Bera (JB):                7.345\n",
       "Skew:                          -1.437   Prob(JB):                       0.0254\n",
       "Kurtosis:                       5.083   Cond. No.                         1.00\n",
       "==============================================================================\n",
       "\n",
       "Warnings:\n",
       "[1] Standard Errors assume that the covariance matrix of the errors is correctly specified.\n",
       "\"\"\""
      ]
     },
     "execution_count": 22,
     "metadata": {},
     "output_type": "execute_result"
    }
   ],
   "source": [
    "# Miami Correlation excluding DLB (hallucinators only)\n",
    "\n",
    "X = df_PDVHonly[\"ImprovD\"]\n",
    "y = df_PDVHonly[\"MiamiVH\"]\n",
    "\n",
    "# Note the difference in argument order\n",
    "model = sm.OLS(y, X, missing='drop').fit()\n",
    "predictions = model.predict(X) # make the predictions by the model\n",
    "\n",
    "# Print out the statistics\n",
    "model.summary()"
   ]
  },
  {
   "cell_type": "markdown",
   "metadata": {},
   "source": [
    "### Univariate Analysis all groups\n",
    "\n",
    "Firstly, we compare all 3 study groups in terms of demographics and performance in clinical assessments and experimental task.\n",
    "\n",
    "Normally distributed variables: ANOVA with post hoc Tukey test\n",
    "\n",
    "Non normally distributed variables: Kruskall Wallis test with post hoc Dunn's tect"
   ]
  },
  {
   "cell_type": "markdown",
   "metadata": {},
   "source": [
    "###### ANOVA \n",
    "For normally distributed variables"
   ]
  },
  {
   "cell_type": "code",
   "execution_count": 84,
   "metadata": {},
   "outputs": [
    {
     "data": {
      "text/html": [
       "<table class=\"simpletable\">\n",
       "<caption>OLS Regression Results</caption>\n",
       "<tr>\n",
       "  <th>Dep. Variable:</th>        <td>variable</td>     <th>  R-squared:         </th> <td>   0.105</td>\n",
       "</tr>\n",
       "<tr>\n",
       "  <th>Model:</th>                   <td>OLS</td>       <th>  Adj. R-squared:    </th> <td>   0.072</td>\n",
       "</tr>\n",
       "<tr>\n",
       "  <th>Method:</th>             <td>Least Squares</td>  <th>  F-statistic:       </th> <td>   3.184</td>\n",
       "</tr>\n",
       "<tr>\n",
       "  <th>Date:</th>             <td>Wed, 29 May 2019</td> <th>  Prob (F-statistic):</th>  <td>0.0493</td> \n",
       "</tr>\n",
       "<tr>\n",
       "  <th>Time:</th>                 <td>19:56:26</td>     <th>  Log-Likelihood:    </th> <td> -29.285</td>\n",
       "</tr>\n",
       "<tr>\n",
       "  <th>No. Observations:</th>      <td>    57</td>      <th>  AIC:               </th> <td>   64.57</td>\n",
       "</tr>\n",
       "<tr>\n",
       "  <th>Df Residuals:</th>          <td>    54</td>      <th>  BIC:               </th> <td>   70.70</td>\n",
       "</tr>\n",
       "<tr>\n",
       "  <th>Df Model:</th>              <td>     2</td>      <th>                     </th>     <td> </td>   \n",
       "</tr>\n",
       "<tr>\n",
       "  <th>Covariance Type:</th>      <td>nonrobust</td>    <th>                     </th>     <td> </td>   \n",
       "</tr>\n",
       "</table>\n",
       "<table class=\"simpletable\">\n",
       "<tr>\n",
       "        <td></td>           <th>coef</th>     <th>std err</th>      <th>t</th>      <th>P>|t|</th>  <th>[0.025</th>    <th>0.975]</th>  \n",
       "</tr>\n",
       "<tr>\n",
       "  <th>Intercept</th>     <td>    0.4030</td> <td>    0.093</td> <td>    4.337</td> <td> 0.000</td> <td>    0.217</td> <td>    0.589</td>\n",
       "</tr>\n",
       "<tr>\n",
       "  <th>C(group)[T.1]</th> <td>   -0.2056</td> <td>    0.131</td> <td>   -1.565</td> <td> 0.123</td> <td>   -0.469</td> <td>    0.058</td>\n",
       "</tr>\n",
       "<tr>\n",
       "  <th>C(group)[T.2]</th> <td>    0.1354</td> <td>    0.137</td> <td>    0.988</td> <td> 0.328</td> <td>   -0.139</td> <td>    0.410</td>\n",
       "</tr>\n",
       "</table>\n",
       "<table class=\"simpletable\">\n",
       "<tr>\n",
       "  <th>Omnibus:</th>       <td> 2.640</td> <th>  Durbin-Watson:     </th> <td>   2.125</td>\n",
       "</tr>\n",
       "<tr>\n",
       "  <th>Prob(Omnibus):</th> <td> 0.267</td> <th>  Jarque-Bera (JB):  </th> <td>   2.050</td>\n",
       "</tr>\n",
       "<tr>\n",
       "  <th>Skew:</th>          <td> 0.311</td> <th>  Prob(JB):          </th> <td>   0.359</td>\n",
       "</tr>\n",
       "<tr>\n",
       "  <th>Kurtosis:</th>      <td> 2.309</td> <th>  Cond. No.          </th> <td>    3.66</td>\n",
       "</tr>\n",
       "</table><br/><br/>Warnings:<br/>[1] Standard Errors assume that the covariance matrix of the errors is correctly specified."
      ],
      "text/plain": [
       "<class 'statsmodels.iolib.summary.Summary'>\n",
       "\"\"\"\n",
       "                            OLS Regression Results                            \n",
       "==============================================================================\n",
       "Dep. Variable:               variable   R-squared:                       0.105\n",
       "Model:                            OLS   Adj. R-squared:                  0.072\n",
       "Method:                 Least Squares   F-statistic:                     3.184\n",
       "Date:                Wed, 29 May 2019   Prob (F-statistic):             0.0493\n",
       "Time:                        19:56:26   Log-Likelihood:                -29.285\n",
       "No. Observations:                  57   AIC:                             64.57\n",
       "Df Residuals:                      54   BIC:                             70.70\n",
       "Df Model:                           2                                         \n",
       "Covariance Type:            nonrobust                                         \n",
       "=================================================================================\n",
       "                    coef    std err          t      P>|t|      [0.025      0.975]\n",
       "---------------------------------------------------------------------------------\n",
       "Intercept         0.4030      0.093      4.337      0.000       0.217       0.589\n",
       "C(group)[T.1]    -0.2056      0.131     -1.565      0.123      -0.469       0.058\n",
       "C(group)[T.2]     0.1354      0.137      0.988      0.328      -0.139       0.410\n",
       "==============================================================================\n",
       "Omnibus:                        2.640   Durbin-Watson:                   2.125\n",
       "Prob(Omnibus):                  0.267   Jarque-Bera (JB):                2.050\n",
       "Skew:                           0.311   Prob(JB):                        0.359\n",
       "Kurtosis:                       2.309   Cond. No.                         3.66\n",
       "==============================================================================\n",
       "\n",
       "Warnings:\n",
       "[1] Standard Errors assume that the covariance matrix of the errors is correctly specified.\n",
       "\"\"\""
      ]
     },
     "execution_count": 84,
     "metadata": {},
     "output_type": "execute_result"
    }
   ],
   "source": [
    "# ANOVA test:\n",
    "variable = df.ImprovD # substitute variable sequentially to test all continuous variables\n",
    "group = df.PD\n",
    "\n",
    "anova = ols(\"variable ~ C(group)\", data=df).fit()  \n",
    "anova.summary()\n",
    "\n",
    "# Prob(F-statistic): overall p- value\n",
    "# Intercept: first variable group (for example in df.PD this is 0/control)\n",
    "# R-squared: effect size"
   ]
  },
  {
   "cell_type": "markdown",
   "metadata": {},
   "source": [
    "###### Post hoc Tukey test\n",
    "Returns a Numpy ndarray where 0 is False (not significant), 1 is True (significant), and -1 is for diagonal elements.\n",
    "Significance level set at p=0,05"
   ]
  },
  {
   "cell_type": "code",
   "execution_count": 117,
   "metadata": {},
   "outputs": [
    {
     "data": {
      "text/plain": [
       "array([[-1,  0,  1],\n",
       "       [ 0, -1,  0],\n",
       "       [ 1,  0, -1]])"
      ]
     },
     "execution_count": 117,
     "metadata": {},
     "output_type": "execute_result"
    }
   ],
   "source": [
    "# Post hoc tukey test for ANOVA \n",
    "variable = df.ImprovD # substitute variable sequentially to test all continuous variables following ANOVA\n",
    "group = df.PD\n",
    "sp.posthoc_tukey_hsd(variable, group, alpha=0.05)"
   ]
  },
  {
   "cell_type": "markdown",
   "metadata": {},
   "source": [
    "###### Kruskal Wallis test\n",
    "For non normally distributed variables"
   ]
  },
  {
   "cell_type": "code",
   "execution_count": 62,
   "metadata": {},
   "outputs": [
    {
     "data": {
      "text/plain": [
       "KruskalResult(statistic=85.96714018108025, pvalue=1.829505711085628e-20)"
      ]
     },
     "execution_count": 62,
     "metadata": {},
     "output_type": "execute_result"
    }
   ],
   "source": [
    "# Kruskal Wallis H test:\n",
    "stats.kruskal(df.MooneyPreRT, df.PD, nan_policy=\"omit\")\n",
    "# substitute first variable sequentially to test all non-continuous variables"
   ]
  },
  {
   "cell_type": "markdown",
   "metadata": {},
   "source": [
    "###### Post hoc Nemenyi test\n",
    "Returns an array of p values between group comparisons"
   ]
  },
  {
   "cell_type": "code",
   "execution_count": 7,
   "metadata": {},
   "outputs": [
    {
     "data": {
      "text/html": [
       "<div>\n",
       "<style scoped>\n",
       "    .dataframe tbody tr th:only-of-type {\n",
       "        vertical-align: middle;\n",
       "    }\n",
       "\n",
       "    .dataframe tbody tr th {\n",
       "        vertical-align: top;\n",
       "    }\n",
       "\n",
       "    .dataframe thead th {\n",
       "        text-align: right;\n",
       "    }\n",
       "</style>\n",
       "<table border=\"1\" class=\"dataframe\">\n",
       "  <thead>\n",
       "    <tr style=\"text-align: right;\">\n",
       "      <th></th>\n",
       "      <th>0</th>\n",
       "      <th>1</th>\n",
       "      <th>2</th>\n",
       "    </tr>\n",
       "  </thead>\n",
       "  <tbody>\n",
       "    <tr>\n",
       "      <th>0</th>\n",
       "      <td>-1.000000</td>\n",
       "      <td>0.908455</td>\n",
       "      <td>0.213907</td>\n",
       "    </tr>\n",
       "    <tr>\n",
       "      <th>1</th>\n",
       "      <td>0.908455</td>\n",
       "      <td>-1.000000</td>\n",
       "      <td>0.409546</td>\n",
       "    </tr>\n",
       "    <tr>\n",
       "      <th>2</th>\n",
       "      <td>0.213907</td>\n",
       "      <td>0.409546</td>\n",
       "      <td>-1.000000</td>\n",
       "    </tr>\n",
       "  </tbody>\n",
       "</table>\n",
       "</div>"
      ],
      "text/plain": [
       "          0         1         2\n",
       "0 -1.000000  0.908455  0.213907\n",
       "1  0.908455 -1.000000  0.409546\n",
       "2  0.213907  0.409546 -1.000000"
      ]
     },
     "execution_count": 7,
     "metadata": {},
     "output_type": "execute_result"
    }
   ],
   "source": [
    "# Nemenyi's post hoc test for Kruskal Wallis\n",
    "sp.posthoc_nemenyi(df, val_col=\"MooneyPreRT\", group_col=\"PD\", sort=True)\n",
    "# substitute variable sequentially to test all continuous variables following Kruskal Wallis"
   ]
  },
  {
   "cell_type": "markdown",
   "metadata": {},
   "source": [
    "##### Check for ceiling and floor effect\n",
    "\n",
    "We used Levene's test of variance to test whether variance was significantly different in one of the three groups. \n",
    "Null hypothesis is that all input samples are from populations with equal variances."
   ]
  },
  {
   "cell_type": "code",
   "execution_count": 9,
   "metadata": {},
   "outputs": [
    {
     "data": {
      "text/plain": [
       "LeveneResult(statistic=0.7657098153036125, pvalue=0.4699856090543062)"
      ]
     },
     "execution_count": 9,
     "metadata": {},
     "output_type": "execute_result"
    }
   ],
   "source": [
    "df_PDonly = df[df.PD == 1] # only PD/DLB participants without hallucinations\n",
    "df_VHonly = df[df.PD == 2] # only PD/DLB participants with hallucinations\n",
    "df_Controlonly = df[df.PD == 0] # only controls\n",
    "\n",
    "# Check for ceiling/floor effect\n",
    "stats.levene(df_PDonly.PostD, df_Controlonly.PostD, df_VHonly.PostD)"
   ]
  },
  {
   "cell_type": "markdown",
   "metadata": {},
   "source": [
    "#### Clinical population comparison\n",
    "\n",
    "Then we compare the two clinical population groups (PD/DLB with and without hallucinations) \n",
    "for variables specific to patients with PD/DLB.\n",
    "\n",
    "    Continuous normally distributed variables: t-test\n",
    "    Non normally distributed variables: Mann-Whitney test"
   ]
  },
  {
   "cell_type": "code",
   "execution_count": 25,
   "metadata": {},
   "outputs": [
    {
     "data": {
      "text/plain": [
       "Ttest_indResult(statistic=-2.3493534038456656, pvalue=0.024577561325875897)"
      ]
     },
     "execution_count": 25,
     "metadata": {},
     "output_type": "execute_result"
    }
   ],
   "source": [
    "# t test\n",
    "df_PDonly = df[df.PD == 1] # only PD/DLB participants without hallucinations\n",
    "df_VHonly = df[df.PD == 2] # only PD/DLB participants with hallucinations\n",
    "df_Controlonly = df[df.PD == 0] # only controls\n",
    "\n",
    "v1 = df_PDonly.ImprovD #Change variable with other variables sequentially\n",
    "v2 = df_VHonly.ImprovD #Change variable with other variables sequentially\n",
    "\n",
    "stats.ttest_ind(v1, v2, nan_policy=\"omit\")"
   ]
  },
  {
   "cell_type": "code",
   "execution_count": 62,
   "metadata": {},
   "outputs": [
    {
     "data": {
      "text/plain": [
       "0.7030949742988789"
      ]
     },
     "execution_count": 62,
     "metadata": {},
     "output_type": "execute_result"
    }
   ],
   "source": [
    "# effect size Hedges\n",
    "hedges(df_PDonly.ImprovFA, df_VHonly.ImprovFA,2.19) #need to input the t statistic from above"
   ]
  },
  {
   "cell_type": "code",
   "execution_count": 4,
   "metadata": {},
   "outputs": [
    {
     "data": {
      "text/plain": [
       "MannwhitneyuResult(statistic=144.5, pvalue=0.22101557775009462)"
      ]
     },
     "execution_count": 4,
     "metadata": {},
     "output_type": "execute_result"
    }
   ],
   "source": [
    "# Mann Whitney test\n",
    "df_PDonly = df[df.PD == 1] # only PD/DLB participants without hallucinations\n",
    "df_VHonly = df[df.PD == 2] # only PD/DLB participants with hallucinations\n",
    "df_Controlonly = df[df.PD == 0] # only controls\n",
    "\n",
    "v1 = df_VHonly.MooneyPostH\n",
    "v2 = df_PDonly.MooneyPostH\n",
    "\n",
    "stats.mannwhitneyu(v1, v2)"
   ]
  },
  {
   "cell_type": "code",
   "execution_count": 123,
   "metadata": {},
   "outputs": [
    {
     "data": {
      "text/plain": [
       "-0.28307854322609766"
      ]
     },
     "execution_count": 123,
     "metadata": {},
     "output_type": "execute_result"
    }
   ],
   "source": [
    "# effect size r\n",
    "corcoef(df_VHonly.MooneyPreFA, df_PDonly.MooneyPreFA, 113.5) #need to input the U statistic from above"
   ]
  },
  {
   "cell_type": "markdown",
   "metadata": {},
   "source": [
    "### Hallucinations subgroup\n",
    "\n",
    "Here we compared improvement in d' in patients with different forms and severity of hallucinations."
   ]
  },
  {
   "cell_type": "code",
   "execution_count": 69,
   "metadata": {},
   "outputs": [
    {
     "data": {
      "text/html": [
       "<div>\n",
       "<style scoped>\n",
       "    .dataframe tbody tr th:only-of-type {\n",
       "        vertical-align: middle;\n",
       "    }\n",
       "\n",
       "    .dataframe tbody tr th {\n",
       "        vertical-align: top;\n",
       "    }\n",
       "\n",
       "    .dataframe thead th {\n",
       "        text-align: right;\n",
       "    }\n",
       "</style>\n",
       "<table border=\"1\" class=\"dataframe\">\n",
       "  <thead>\n",
       "    <tr style=\"text-align: right;\">\n",
       "      <th></th>\n",
       "      <th>VIPDNo</th>\n",
       "      <th>DateTested</th>\n",
       "      <th>Age</th>\n",
       "      <th>DOB</th>\n",
       "      <th>Gender</th>\n",
       "      <th>Handedness</th>\n",
       "      <th>PD</th>\n",
       "      <th>DLB</th>\n",
       "      <th>LEDD</th>\n",
       "      <th>CHEI</th>\n",
       "      <th>...</th>\n",
       "      <th>PostD</th>\n",
       "      <th>ImprovD</th>\n",
       "      <th>PreC</th>\n",
       "      <th>PostC</th>\n",
       "      <th>ImprovC</th>\n",
       "      <th>PreAd</th>\n",
       "      <th>PostAd</th>\n",
       "      <th>ImprovAd</th>\n",
       "      <th>ImprovH</th>\n",
       "      <th>ImprovFA</th>\n",
       "    </tr>\n",
       "  </thead>\n",
       "  <tbody>\n",
       "    <tr>\n",
       "      <th>53</th>\n",
       "      <td>136</td>\n",
       "      <td>2019-01-28</td>\n",
       "      <td>65</td>\n",
       "      <td>1954-04-16</td>\n",
       "      <td>1</td>\n",
       "      <td>1</td>\n",
       "      <td>1</td>\n",
       "      <td>0</td>\n",
       "      <td>0.0</td>\n",
       "      <td>0</td>\n",
       "      <td>...</td>\n",
       "      <td>2.804512</td>\n",
       "      <td>0.237086</td>\n",
       "      <td>0.55471</td>\n",
       "      <td>0.436168</td>\n",
       "      <td>-0.118543</td>\n",
       "      <td>0.965272</td>\n",
       "      <td>0.976321</td>\n",
       "      <td>0.011049</td>\n",
       "      <td>0.066</td>\n",
       "      <td>0.0</td>\n",
       "    </tr>\n",
       "  </tbody>\n",
       "</table>\n",
       "<p>1 rows × 94 columns</p>\n",
       "</div>"
      ],
      "text/plain": [
       "    VIPDNo DateTested  Age        DOB  Gender  Handedness  PD  DLB  LEDD  \\\n",
       "53     136 2019-01-28   65 1954-04-16       1           1   1    0   0.0   \n",
       "\n",
       "    CHEI    ...        PostD   ImprovD     PreC     PostC   ImprovC     PreAd  \\\n",
       "53     0    ...     2.804512  0.237086  0.55471  0.436168 -0.118543  0.965272   \n",
       "\n",
       "      PostAd  ImprovAd  ImprovH  ImprovFA  \n",
       "53  0.976321  0.011049    0.066       0.0  \n",
       "\n",
       "[1 rows x 94 columns]"
      ]
     },
     "execution_count": 69,
     "metadata": {},
     "output_type": "execute_result"
    }
   ],
   "source": [
    "# # Creat a dataframe with only clinical groups (drop controls)\n",
    "# Drop controls\n",
    "df_PD = df[df.PD != 0]\n",
    "df_PD.reset_index()\n",
    "#df_PD.tail(1)"
   ]
  },
  {
   "cell_type": "code",
   "execution_count": 5,
   "metadata": {},
   "outputs": [
    {
     "data": {
      "text/html": [
       "<table class=\"simpletable\">\n",
       "<caption>OLS Regression Results</caption>\n",
       "<tr>\n",
       "  <th>Dep. Variable:</th>         <td>ImprovD</td>     <th>  R-squared:         </th> <td>   0.279</td>\n",
       "</tr>\n",
       "<tr>\n",
       "  <th>Model:</th>                   <td>OLS</td>       <th>  Adj. R-squared:    </th> <td>   0.260</td>\n",
       "</tr>\n",
       "<tr>\n",
       "  <th>Method:</th>             <td>Least Squares</td>  <th>  F-statistic:       </th> <td>   15.07</td>\n",
       "</tr>\n",
       "<tr>\n",
       "  <th>Date:</th>             <td>Mon, 03 Jun 2019</td> <th>  Prob (F-statistic):</th> <td>0.000389</td>\n",
       "</tr>\n",
       "<tr>\n",
       "  <th>Time:</th>                 <td>16:28:28</td>     <th>  Log-Likelihood:    </th> <td> -23.775</td>\n",
       "</tr>\n",
       "<tr>\n",
       "  <th>No. Observations:</th>      <td>    40</td>      <th>  AIC:               </th> <td>   49.55</td>\n",
       "</tr>\n",
       "<tr>\n",
       "  <th>Df Residuals:</th>          <td>    39</td>      <th>  BIC:               </th> <td>   51.24</td>\n",
       "</tr>\n",
       "<tr>\n",
       "  <th>Df Model:</th>              <td>     1</td>      <th>                     </th>     <td> </td>   \n",
       "</tr>\n",
       "<tr>\n",
       "  <th>Covariance Type:</th>      <td>nonrobust</td>    <th>                     </th>     <td> </td>   \n",
       "</tr>\n",
       "</table>\n",
       "<table class=\"simpletable\">\n",
       "<tr>\n",
       "    <td></td>      <th>coef</th>     <th>std err</th>      <th>t</th>      <th>P>|t|</th>  <th>[0.025</th>    <th>0.975]</th>  \n",
       "</tr>\n",
       "<tr>\n",
       "  <th>PreD</th> <td>    0.1376</td> <td>    0.035</td> <td>    3.882</td> <td> 0.000</td> <td>    0.066</td> <td>    0.209</td>\n",
       "</tr>\n",
       "</table>\n",
       "<table class=\"simpletable\">\n",
       "<tr>\n",
       "  <th>Omnibus:</th>       <td> 1.483</td> <th>  Durbin-Watson:     </th> <td>   1.965</td>\n",
       "</tr>\n",
       "<tr>\n",
       "  <th>Prob(Omnibus):</th> <td> 0.476</td> <th>  Jarque-Bera (JB):  </th> <td>   1.113</td>\n",
       "</tr>\n",
       "<tr>\n",
       "  <th>Skew:</th>          <td>-0.146</td> <th>  Prob(JB):          </th> <td>   0.573</td>\n",
       "</tr>\n",
       "<tr>\n",
       "  <th>Kurtosis:</th>      <td> 2.237</td> <th>  Cond. No.          </th> <td>    1.00</td>\n",
       "</tr>\n",
       "</table><br/><br/>Warnings:<br/>[1] Standard Errors assume that the covariance matrix of the errors is correctly specified."
      ],
      "text/plain": [
       "<class 'statsmodels.iolib.summary.Summary'>\n",
       "\"\"\"\n",
       "                            OLS Regression Results                            \n",
       "==============================================================================\n",
       "Dep. Variable:                ImprovD   R-squared:                       0.279\n",
       "Model:                            OLS   Adj. R-squared:                  0.260\n",
       "Method:                 Least Squares   F-statistic:                     15.07\n",
       "Date:                Mon, 03 Jun 2019   Prob (F-statistic):           0.000389\n",
       "Time:                        16:28:28   Log-Likelihood:                -23.775\n",
       "No. Observations:                  40   AIC:                             49.55\n",
       "Df Residuals:                      39   BIC:                             51.24\n",
       "Df Model:                           1                                         \n",
       "Covariance Type:            nonrobust                                         \n",
       "==============================================================================\n",
       "                 coef    std err          t      P>|t|      [0.025      0.975]\n",
       "------------------------------------------------------------------------------\n",
       "PreD           0.1376      0.035      3.882      0.000       0.066       0.209\n",
       "==============================================================================\n",
       "Omnibus:                        1.483   Durbin-Watson:                   1.965\n",
       "Prob(Omnibus):                  0.476   Jarque-Bera (JB):                1.113\n",
       "Skew:                          -0.146   Prob(JB):                        0.573\n",
       "Kurtosis:                       2.237   Cond. No.                         1.00\n",
       "==============================================================================\n",
       "\n",
       "Warnings:\n",
       "[1] Standard Errors assume that the covariance matrix of the errors is correctly specified.\n",
       "\"\"\""
      ]
     },
     "execution_count": 5,
     "metadata": {},
     "output_type": "execute_result"
    }
   ],
   "source": [
    "# Severity of Hallucinations as per the Miami J Questionnaire score\n",
    "df_noVH=df[df.PD !=2]\n",
    "X = df_noVH[\"PreD\"]\n",
    "y = df_noVH[\"ImprovD\"]\n",
    "\n",
    "# Note the difference in argument order\n",
    "model = sm.OLS(y, X, missing='drop').fit()\n",
    "predictions = model.predict(X) # make the predictions by the model\n",
    "\n",
    "# Print out the statistics\n",
    "model.summary()\n",
    "\n",
    "# Prob(F-statistic): overall p- value\n",
    "# Intercept: first variable group (for example in df.PD this is 0/control)\n",
    "# R-squared: effect size"
   ]
  },
  {
   "cell_type": "code",
   "execution_count": 179,
   "metadata": {},
   "outputs": [
    {
     "ename": "NameError",
     "evalue": "name 'df_VHonly' is not defined",
     "output_type": "error",
     "traceback": [
      "\u001b[1;31m---------------------------------------------------------------------------\u001b[0m",
      "\u001b[1;31mNameError\u001b[0m                                 Traceback (most recent call last)",
      "\u001b[1;32m<ipython-input-179-1d8d910dd4d6>\u001b[0m in \u001b[0;36m<module>\u001b[1;34m()\u001b[0m\n\u001b[0;32m      1\u001b[0m \u001b[1;31m# Severity of Hallucinations as per the Miami J Questionnaire score only in Hallucinators\u001b[0m\u001b[1;33m\u001b[0m\u001b[1;33m\u001b[0m\u001b[0m\n\u001b[0;32m      2\u001b[0m \u001b[1;33m\u001b[0m\u001b[0m\n\u001b[1;32m----> 3\u001b[1;33m \u001b[0mX\u001b[0m \u001b[1;33m=\u001b[0m \u001b[0mdf_VHonly\u001b[0m\u001b[1;33m[\u001b[0m\u001b[1;34m\"ImprovD\"\u001b[0m\u001b[1;33m]\u001b[0m\u001b[1;33m\u001b[0m\u001b[0m\n\u001b[0m\u001b[0;32m      4\u001b[0m \u001b[0my\u001b[0m \u001b[1;33m=\u001b[0m \u001b[0mdf_VHonly\u001b[0m\u001b[1;33m[\u001b[0m\u001b[1;34m\"MiamiVH\"\u001b[0m\u001b[1;33m]\u001b[0m\u001b[1;33m\u001b[0m\u001b[0m\n\u001b[0;32m      5\u001b[0m \u001b[1;33m\u001b[0m\u001b[0m\n",
      "\u001b[1;31mNameError\u001b[0m: name 'df_VHonly' is not defined"
     ]
    }
   ],
   "source": [
    "# Severity of Hallucinations as per the Miami J Questionnaire score only in Hallucinators\n",
    "\n",
    "X = df_VHonly[\"ImprovD\"]\n",
    "y = df_VHonly[\"MiamiVH\"]\n",
    "\n",
    "# Note the difference in argument order\n",
    "model = sm.OLS(y, X, missing='drop').fit()\n",
    "predictions = model.predict(X) # make the predictions by the model\n",
    "\n",
    "# Print out the statistics\n",
    "model.summary()"
   ]
  },
  {
   "cell_type": "markdown",
   "metadata": {},
   "source": [
    "And the type of hallucinations (qualitative)"
   ]
  },
  {
   "cell_type": "code",
   "execution_count": 23,
   "metadata": {},
   "outputs": [
    {
     "data": {
      "text/html": [
       "<table class=\"simpletable\">\n",
       "<caption>OLS Regression Results</caption>\n",
       "<tr>\n",
       "  <th>Dep. Variable:</th>         <td>ImprovD</td>     <th>  R-squared:         </th> <td>   0.189</td>\n",
       "</tr>\n",
       "<tr>\n",
       "  <th>Model:</th>                   <td>OLS</td>       <th>  Adj. R-squared:    </th> <td>   0.115</td>\n",
       "</tr>\n",
       "<tr>\n",
       "  <th>Method:</th>             <td>Least Squares</td>  <th>  F-statistic:       </th> <td>   2.559</td>\n",
       "</tr>\n",
       "<tr>\n",
       "  <th>Date:</th>             <td>Thu, 04 Apr 2019</td> <th>  Prob (F-statistic):</th>  <td>0.0718</td> \n",
       "</tr>\n",
       "<tr>\n",
       "  <th>Time:</th>                 <td>19:19:06</td>     <th>  Log-Likelihood:    </th> <td> -19.936</td>\n",
       "</tr>\n",
       "<tr>\n",
       "  <th>No. Observations:</th>      <td>    37</td>      <th>  AIC:               </th> <td>   47.87</td>\n",
       "</tr>\n",
       "<tr>\n",
       "  <th>Df Residuals:</th>          <td>    33</td>      <th>  BIC:               </th> <td>   54.32</td>\n",
       "</tr>\n",
       "<tr>\n",
       "  <th>Df Model:</th>              <td>     3</td>      <th>                     </th>     <td> </td>   \n",
       "</tr>\n",
       "<tr>\n",
       "  <th>Covariance Type:</th>      <td>nonrobust</td>    <th>                     </th>     <td> </td>   \n",
       "</tr>\n",
       "</table>\n",
       "<table class=\"simpletable\">\n",
       "<tr>\n",
       "          <td></td>             <th>coef</th>     <th>std err</th>      <th>t</th>      <th>P>|t|</th>  <th>[0.025</th>    <th>0.975]</th>  \n",
       "</tr>\n",
       "<tr>\n",
       "  <th>Intercept</th>         <td>    0.6105</td> <td>    0.139</td> <td>    4.396</td> <td> 0.000</td> <td>    0.328</td> <td>    0.893</td>\n",
       "</tr>\n",
       "<tr>\n",
       "  <th>C(VH)[T.Formed]</th>   <td>    0.0582</td> <td>    0.289</td> <td>    0.201</td> <td> 0.842</td> <td>   -0.530</td> <td>    0.646</td>\n",
       "</tr>\n",
       "<tr>\n",
       "  <th>C(VH)[T.No]</th>       <td>   -0.4131</td> <td>    0.170</td> <td>   -2.429</td> <td> 0.021</td> <td>   -0.759</td> <td>   -0.067</td>\n",
       "</tr>\n",
       "<tr>\n",
       "  <th>C(VH)[T.Provoked]</th> <td>   -0.3500</td> <td>    0.260</td> <td>   -1.347</td> <td> 0.187</td> <td>   -0.879</td> <td>    0.179</td>\n",
       "</tr>\n",
       "</table>\n",
       "<table class=\"simpletable\">\n",
       "<tr>\n",
       "  <th>Omnibus:</th>       <td> 0.853</td> <th>  Durbin-Watson:     </th> <td>   2.489</td>\n",
       "</tr>\n",
       "<tr>\n",
       "  <th>Prob(Omnibus):</th> <td> 0.653</td> <th>  Jarque-Bera (JB):  </th> <td>   0.827</td>\n",
       "</tr>\n",
       "<tr>\n",
       "  <th>Skew:</th>          <td> 0.141</td> <th>  Prob(JB):          </th> <td>   0.661</td>\n",
       "</tr>\n",
       "<tr>\n",
       "  <th>Kurtosis:</th>      <td> 2.324</td> <th>  Cond. No.          </th> <td>    5.53</td>\n",
       "</tr>\n",
       "</table><br/><br/>Warnings:<br/>[1] Standard Errors assume that the covariance matrix of the errors is correctly specified."
      ],
      "text/plain": [
       "<class 'statsmodels.iolib.summary.Summary'>\n",
       "\"\"\"\n",
       "                            OLS Regression Results                            \n",
       "==============================================================================\n",
       "Dep. Variable:                ImprovD   R-squared:                       0.189\n",
       "Model:                            OLS   Adj. R-squared:                  0.115\n",
       "Method:                 Least Squares   F-statistic:                     2.559\n",
       "Date:                Thu, 04 Apr 2019   Prob (F-statistic):             0.0718\n",
       "Time:                        19:19:06   Log-Likelihood:                -19.936\n",
       "No. Observations:                  37   AIC:                             47.87\n",
       "Df Residuals:                      33   BIC:                             54.32\n",
       "Df Model:                           3                                         \n",
       "Covariance Type:            nonrobust                                         \n",
       "=====================================================================================\n",
       "                        coef    std err          t      P>|t|      [0.025      0.975]\n",
       "-------------------------------------------------------------------------------------\n",
       "Intercept             0.6105      0.139      4.396      0.000       0.328       0.893\n",
       "C(VH)[T.Formed]       0.0582      0.289      0.201      0.842      -0.530       0.646\n",
       "C(VH)[T.No]          -0.4131      0.170     -2.429      0.021      -0.759      -0.067\n",
       "C(VH)[T.Provoked]    -0.3500      0.260     -1.347      0.187      -0.879       0.179\n",
       "==============================================================================\n",
       "Omnibus:                        0.853   Durbin-Watson:                   2.489\n",
       "Prob(Omnibus):                  0.653   Jarque-Bera (JB):                0.827\n",
       "Skew:                           0.141   Prob(JB):                        0.661\n",
       "Kurtosis:                       2.324   Cond. No.                         5.53\n",
       "==============================================================================\n",
       "\n",
       "Warnings:\n",
       "[1] Standard Errors assume that the covariance matrix of the errors is correctly specified.\n",
       "\"\"\""
      ]
     },
     "execution_count": 23,
     "metadata": {},
     "output_type": "execute_result"
    }
   ],
   "source": [
    "# Split of improvement in D as per VH type\n",
    "\n",
    "# ANOVA test:\n",
    "anova = ols(\"ImprovD ~ C(VH)\", data=df_PD).fit()  #Change Age with other variables sequentially\n",
    "anova.summary()\n",
    "\n",
    "# Prob(F-statistic): overall p- value\n",
    "# Intercept: first variable group (for example in df.PD this is 0/control)\n",
    "# R-squared: effect size"
   ]
  },
  {
   "cell_type": "markdown",
   "metadata": {},
   "source": [
    "### Multivariate Analysis"
   ]
  },
  {
   "cell_type": "markdown",
   "metadata": {},
   "source": [
    "Correcting for difference in the LBD/VH and LBD non VH population.\n",
    "\n",
    "Variables that differed between these groups: Hooper, HADSdepression, UPDRS."
   ]
  },
  {
   "cell_type": "code",
   "execution_count": 101,
   "metadata": {},
   "outputs": [
    {
     "data": {
      "text/html": [
       "<table class=\"simpletable\">\n",
       "<caption>OLS Regression Results</caption>\n",
       "<tr>\n",
       "  <th>Dep. Variable:</th>         <td>ImprovD</td>     <th>  R-squared:         </th> <td>   0.290</td>\n",
       "</tr>\n",
       "<tr>\n",
       "  <th>Model:</th>                   <td>OLS</td>       <th>  Adj. R-squared:    </th> <td>   0.163</td>\n",
       "</tr>\n",
       "<tr>\n",
       "  <th>Method:</th>             <td>Least Squares</td>  <th>  F-statistic:       </th> <td>   2.285</td>\n",
       "</tr>\n",
       "<tr>\n",
       "  <th>Date:</th>             <td>Fri, 05 Apr 2019</td> <th>  Prob (F-statistic):</th>  <td>0.0733</td> \n",
       "</tr>\n",
       "<tr>\n",
       "  <th>Time:</th>                 <td>10:41:39</td>     <th>  Log-Likelihood:    </th> <td> -14.985</td>\n",
       "</tr>\n",
       "<tr>\n",
       "  <th>No. Observations:</th>      <td>    34</td>      <th>  AIC:               </th> <td>   41.97</td>\n",
       "</tr>\n",
       "<tr>\n",
       "  <th>Df Residuals:</th>          <td>    28</td>      <th>  BIC:               </th> <td>   51.13</td>\n",
       "</tr>\n",
       "<tr>\n",
       "  <th>Df Model:</th>              <td>     5</td>      <th>                     </th>     <td> </td>   \n",
       "</tr>\n",
       "<tr>\n",
       "  <th>Covariance Type:</th>      <td>nonrobust</td>    <th>                     </th>     <td> </td>   \n",
       "</tr>\n",
       "</table>\n",
       "<table class=\"simpletable\">\n",
       "<tr>\n",
       "         <td></td>           <th>coef</th>     <th>std err</th>      <th>t</th>      <th>P>|t|</th>  <th>[0.025</th>    <th>0.975]</th>  \n",
       "</tr>\n",
       "<tr>\n",
       "  <th>const</th>          <td>   -0.2267</td> <td>    0.800</td> <td>   -0.283</td> <td> 0.779</td> <td>   -1.866</td> <td>    1.413</td>\n",
       "</tr>\n",
       "<tr>\n",
       "  <th>MiamiVH</th>        <td>    0.0768</td> <td>    0.032</td> <td>    2.415</td> <td> 0.023</td> <td>    0.012</td> <td>    0.142</td>\n",
       "</tr>\n",
       "<tr>\n",
       "  <th>PelliRobsonBL</th>  <td>    0.2422</td> <td>    0.412</td> <td>    0.588</td> <td> 0.561</td> <td>   -0.601</td> <td>    1.085</td>\n",
       "</tr>\n",
       "<tr>\n",
       "  <th>StroopWordTime</th> <td>   -0.0114</td> <td>    0.009</td> <td>   -1.202</td> <td> 0.239</td> <td>   -0.031</td> <td>    0.008</td>\n",
       "</tr>\n",
       "<tr>\n",
       "  <th>HADSdepression</th> <td>   -0.0378</td> <td>    0.035</td> <td>   -1.076</td> <td> 0.291</td> <td>   -0.110</td> <td>    0.034</td>\n",
       "</tr>\n",
       "<tr>\n",
       "  <th>UPDRS</th>          <td>    0.0107</td> <td>    0.006</td> <td>    1.789</td> <td> 0.084</td> <td>   -0.002</td> <td>    0.023</td>\n",
       "</tr>\n",
       "</table>\n",
       "<table class=\"simpletable\">\n",
       "<tr>\n",
       "  <th>Omnibus:</th>       <td> 0.096</td> <th>  Durbin-Watson:     </th> <td>   2.289</td>\n",
       "</tr>\n",
       "<tr>\n",
       "  <th>Prob(Omnibus):</th> <td> 0.953</td> <th>  Jarque-Bera (JB):  </th> <td>   0.035</td>\n",
       "</tr>\n",
       "<tr>\n",
       "  <th>Skew:</th>          <td> 0.041</td> <th>  Prob(JB):          </th> <td>   0.982</td>\n",
       "</tr>\n",
       "<tr>\n",
       "  <th>Kurtosis:</th>      <td> 2.865</td> <th>  Cond. No.          </th> <td>    682.</td>\n",
       "</tr>\n",
       "</table><br/><br/>Warnings:<br/>[1] Standard Errors assume that the covariance matrix of the errors is correctly specified."
      ],
      "text/plain": [
       "<class 'statsmodels.iolib.summary.Summary'>\n",
       "\"\"\"\n",
       "                            OLS Regression Results                            \n",
       "==============================================================================\n",
       "Dep. Variable:                ImprovD   R-squared:                       0.290\n",
       "Model:                            OLS   Adj. R-squared:                  0.163\n",
       "Method:                 Least Squares   F-statistic:                     2.285\n",
       "Date:                Fri, 05 Apr 2019   Prob (F-statistic):             0.0733\n",
       "Time:                        10:41:39   Log-Likelihood:                -14.985\n",
       "No. Observations:                  34   AIC:                             41.97\n",
       "Df Residuals:                      28   BIC:                             51.13\n",
       "Df Model:                           5                                         \n",
       "Covariance Type:            nonrobust                                         \n",
       "==================================================================================\n",
       "                     coef    std err          t      P>|t|      [0.025      0.975]\n",
       "----------------------------------------------------------------------------------\n",
       "const             -0.2267      0.800     -0.283      0.779      -1.866       1.413\n",
       "MiamiVH            0.0768      0.032      2.415      0.023       0.012       0.142\n",
       "PelliRobsonBL      0.2422      0.412      0.588      0.561      -0.601       1.085\n",
       "StroopWordTime    -0.0114      0.009     -1.202      0.239      -0.031       0.008\n",
       "HADSdepression    -0.0378      0.035     -1.076      0.291      -0.110       0.034\n",
       "UPDRS              0.0107      0.006      1.789      0.084      -0.002       0.023\n",
       "==============================================================================\n",
       "Omnibus:                        0.096   Durbin-Watson:                   2.289\n",
       "Prob(Omnibus):                  0.953   Jarque-Bera (JB):                0.035\n",
       "Skew:                           0.041   Prob(JB):                        0.982\n",
       "Kurtosis:                       2.865   Cond. No.                         682.\n",
       "==============================================================================\n",
       "\n",
       "Warnings:\n",
       "[1] Standard Errors assume that the covariance matrix of the errors is correctly specified.\n",
       "\"\"\""
      ]
     },
     "execution_count": 101,
     "metadata": {},
     "output_type": "execute_result"
    }
   ],
   "source": [
    "X = df_PD[[\"MiamiVH\", \"PelliRobsonBL\", \"StroopWordTime\",\"HADSdepression\", \"UPDRS\"]]\n",
    "y = df_PD[\"ImprovD\"]\n",
    "\n",
    "# Note the difference in argument order\n",
    "X = sm.add_constant(X)\n",
    "multi_model = sm.OLS(y, X, missing='drop').fit()\n",
    "\n",
    "# Print out the statistics\n",
    "multi_model.summary()\n",
    "\n",
    "# Prob(F-statistic): overall p- value\n",
    "# Intercept: first variable group (for example in df.PD this is 0/control)\n",
    "# R-squared: effect size"
   ]
  },
  {
   "cell_type": "code",
   "execution_count": 100,
   "metadata": {},
   "outputs": [
    {
     "name": "stderr",
     "output_type": "stream",
     "text": [
      "C:\\Users\\Angelika\\Anaconda3\\lib\\site-packages\\scipy\\stats\\stats.py:1394: UserWarning: kurtosistest only valid for n>=20 ... continuing anyway, n=16\n",
      "  \"anyway, n=%i\" % int(n))\n"
     ]
    },
    {
     "data": {
      "text/html": [
       "<table class=\"simpletable\">\n",
       "<caption>OLS Regression Results</caption>\n",
       "<tr>\n",
       "  <th>Dep. Variable:</th>         <td>ImprovD</td>     <th>  R-squared:         </th> <td>   0.778</td>\n",
       "</tr>\n",
       "<tr>\n",
       "  <th>Model:</th>                   <td>OLS</td>       <th>  Adj. R-squared:    </th> <td>   0.524</td>\n",
       "</tr>\n",
       "<tr>\n",
       "  <th>Method:</th>             <td>Least Squares</td>  <th>  F-statistic:       </th> <td>   3.063</td>\n",
       "</tr>\n",
       "<tr>\n",
       "  <th>Date:</th>             <td>Fri, 05 Apr 2019</td> <th>  Prob (F-statistic):</th>  <td>0.0790</td> \n",
       "</tr>\n",
       "<tr>\n",
       "  <th>Time:</th>                 <td>10:37:19</td>     <th>  Log-Likelihood:    </th> <td>  3.9912</td>\n",
       "</tr>\n",
       "<tr>\n",
       "  <th>No. Observations:</th>      <td>    16</td>      <th>  AIC:               </th> <td>   10.02</td>\n",
       "</tr>\n",
       "<tr>\n",
       "  <th>Df Residuals:</th>          <td>     7</td>      <th>  BIC:               </th> <td>   16.97</td>\n",
       "</tr>\n",
       "<tr>\n",
       "  <th>Df Model:</th>              <td>     8</td>      <th>                     </th>     <td> </td>   \n",
       "</tr>\n",
       "<tr>\n",
       "  <th>Covariance Type:</th>      <td>nonrobust</td>    <th>                     </th>     <td> </td>   \n",
       "</tr>\n",
       "</table>\n",
       "<table class=\"simpletable\">\n",
       "<tr>\n",
       "         <td></td>           <th>coef</th>     <th>std err</th>      <th>t</th>      <th>P>|t|</th>  <th>[0.025</th>    <th>0.975]</th>  \n",
       "</tr>\n",
       "<tr>\n",
       "  <th>const</th>          <td>   -3.3700</td> <td>    2.191</td> <td>   -1.538</td> <td> 0.168</td> <td>   -8.550</td> <td>    1.810</td>\n",
       "</tr>\n",
       "<tr>\n",
       "  <th>MiamiVH</th>        <td>    0.1078</td> <td>    0.042</td> <td>    2.549</td> <td> 0.038</td> <td>    0.008</td> <td>    0.208</td>\n",
       "</tr>\n",
       "<tr>\n",
       "  <th>LEDD</th>           <td>   -0.0004</td> <td>    0.000</td> <td>   -0.987</td> <td> 0.357</td> <td>   -0.001</td> <td>    0.001</td>\n",
       "</tr>\n",
       "<tr>\n",
       "  <th>PelliRobsonBL</th>  <td>    1.3122</td> <td>    0.485</td> <td>    2.705</td> <td> 0.030</td> <td>    0.165</td> <td>    2.459</td>\n",
       "</tr>\n",
       "<tr>\n",
       "  <th>MMSE</th>           <td>    0.1098</td> <td>    0.074</td> <td>    1.477</td> <td> 0.183</td> <td>   -0.066</td> <td>    0.286</td>\n",
       "</tr>\n",
       "<tr>\n",
       "  <th>Hooper</th>         <td>   -0.0820</td> <td>    0.031</td> <td>   -2.632</td> <td> 0.034</td> <td>   -0.156</td> <td>   -0.008</td>\n",
       "</tr>\n",
       "<tr>\n",
       "  <th>UPDRS</th>          <td>    0.0188</td> <td>    0.008</td> <td>    2.496</td> <td> 0.041</td> <td>    0.001</td> <td>    0.037</td>\n",
       "</tr>\n",
       "<tr>\n",
       "  <th>HADSdepression</th> <td>   -0.0201</td> <td>    0.042</td> <td>   -0.481</td> <td> 0.645</td> <td>   -0.119</td> <td>    0.079</td>\n",
       "</tr>\n",
       "<tr>\n",
       "  <th>StroopWordTime</th> <td>   -0.0193</td> <td>    0.010</td> <td>   -1.882</td> <td> 0.102</td> <td>   -0.043</td> <td>    0.005</td>\n",
       "</tr>\n",
       "</table>\n",
       "<table class=\"simpletable\">\n",
       "<tr>\n",
       "  <th>Omnibus:</th>       <td> 3.350</td> <th>  Durbin-Watson:     </th> <td>   2.242</td>\n",
       "</tr>\n",
       "<tr>\n",
       "  <th>Prob(Omnibus):</th> <td> 0.187</td> <th>  Jarque-Bera (JB):  </th> <td>   2.168</td>\n",
       "</tr>\n",
       "<tr>\n",
       "  <th>Skew:</th>          <td>-0.899</td> <th>  Prob(JB):          </th> <td>   0.338</td>\n",
       "</tr>\n",
       "<tr>\n",
       "  <th>Kurtosis:</th>      <td> 2.851</td> <th>  Cond. No.          </th> <td>1.44e+04</td>\n",
       "</tr>\n",
       "</table><br/><br/>Warnings:<br/>[1] Standard Errors assume that the covariance matrix of the errors is correctly specified.<br/>[2] The condition number is large, 1.44e+04. This might indicate that there are<br/>strong multicollinearity or other numerical problems."
      ],
      "text/plain": [
       "<class 'statsmodels.iolib.summary.Summary'>\n",
       "\"\"\"\n",
       "                            OLS Regression Results                            \n",
       "==============================================================================\n",
       "Dep. Variable:                ImprovD   R-squared:                       0.778\n",
       "Model:                            OLS   Adj. R-squared:                  0.524\n",
       "Method:                 Least Squares   F-statistic:                     3.063\n",
       "Date:                Fri, 05 Apr 2019   Prob (F-statistic):             0.0790\n",
       "Time:                        10:37:19   Log-Likelihood:                 3.9912\n",
       "No. Observations:                  16   AIC:                             10.02\n",
       "Df Residuals:                       7   BIC:                             16.97\n",
       "Df Model:                           8                                         \n",
       "Covariance Type:            nonrobust                                         \n",
       "==================================================================================\n",
       "                     coef    std err          t      P>|t|      [0.025      0.975]\n",
       "----------------------------------------------------------------------------------\n",
       "const             -3.3700      2.191     -1.538      0.168      -8.550       1.810\n",
       "MiamiVH            0.1078      0.042      2.549      0.038       0.008       0.208\n",
       "LEDD              -0.0004      0.000     -0.987      0.357      -0.001       0.001\n",
       "PelliRobsonBL      1.3122      0.485      2.705      0.030       0.165       2.459\n",
       "MMSE               0.1098      0.074      1.477      0.183      -0.066       0.286\n",
       "Hooper            -0.0820      0.031     -2.632      0.034      -0.156      -0.008\n",
       "UPDRS              0.0188      0.008      2.496      0.041       0.001       0.037\n",
       "HADSdepression    -0.0201      0.042     -0.481      0.645      -0.119       0.079\n",
       "StroopWordTime    -0.0193      0.010     -1.882      0.102      -0.043       0.005\n",
       "==============================================================================\n",
       "Omnibus:                        3.350   Durbin-Watson:                   2.242\n",
       "Prob(Omnibus):                  0.187   Jarque-Bera (JB):                2.168\n",
       "Skew:                          -0.899   Prob(JB):                        0.338\n",
       "Kurtosis:                       2.851   Cond. No.                     1.44e+04\n",
       "==============================================================================\n",
       "\n",
       "Warnings:\n",
       "[1] Standard Errors assume that the covariance matrix of the errors is correctly specified.\n",
       "[2] The condition number is large, 1.44e+04. This might indicate that there are\n",
       "strong multicollinearity or other numerical problems.\n",
       "\"\"\""
      ]
     },
     "execution_count": 100,
     "metadata": {},
     "output_type": "execute_result"
    }
   ],
   "source": [
    "X = df_VHonly[[\"MiamiVH\",\"LEDD\",\"PelliRobsonBL\",\"MMSE\",\"Hooper\",\"UPDRS\", \"HADSdepression\", \"StroopWordTime\"]]\n",
    "y = df_VHonly[\"ImprovD\"]\n",
    "\n",
    "# Note the difference in argument order\n",
    "X = sm.add_constant(X)\n",
    "multi_model = sm.OLS(y, X, missing='drop').fit()\n",
    "\n",
    "# Print out the statistics\n",
    "multi_model.summary()\n",
    "\n",
    "# Prob(F-statistic): overall p- value\n",
    "# Intercept: first variable group (for example in df.PD this is 0/control)\n",
    "# R-squared: effect size"
   ]
  },
  {
   "cell_type": "markdown",
   "metadata": {},
   "source": [
    "### Plots -  Whole Dataset\n",
    "\n",
    "Firstly plot the improvement in percentage correct in all three groups: \n",
    "    0:Controls, 1:PD non hallucinations, 2: PD/DLB with hallucinations"
   ]
  },
  {
   "cell_type": "code",
   "execution_count": 25,
   "metadata": {},
   "outputs": [
    {
     "data": {
      "image/png": "[encoded data removed]",
      "text/plain": [
       "<Figure size 432x720 with 1 Axes>"
      ]
     },
     "metadata": {},
     "output_type": "display_data"
    }
   ],
   "source": [
    "# Combined bar plotd' before and after in all groups\n",
    "\n",
    "# Plot the after d'\n",
    "sns.set_color_codes(\"pastel\")\n",
    "fig = sns.catplot(x=\"PD\", y=\"PostD\", data=df, kind=\"bar\", label=\"Post\", color=\"g\", ci=95, errcolor=\"grey\", \n",
    "                  errwidth=0.8,  height=10, aspect=0.6)\n",
    "\n",
    "# Plot the before d'\n",
    "sns.set_color_codes(\"deep\")\n",
    "fig = sns.barplot(x=\"PD\", y=\"PreD\", data=df, label=\"Pre\", color=\"g\", ci=95, errwidth=0.8, saturation=0.5)\n",
    "\n",
    "# Add a legend and informative axis label\n",
    "sns.despine(left=False, bottom=False)\n",
    "\n",
    "fig = fig.get_figure()\n",
    "fig.savefig(\"DAll.png\")"
   ]
  },
  {
   "cell_type": "markdown",
   "metadata": {},
   "source": [
    "### Plots - Clinical groups (PD/DLB with and without hallucinations) before-after blocks\n",
    "\n",
    "First we plot the changes in percentage correct in patients with PD/DLB and hallucinations and those with PD/DLB without hallucinations"
   ]
  },
  {
   "cell_type": "code",
   "execution_count": 9,
   "metadata": {},
   "outputs": [],
   "source": [
    "# Drop controls\n",
    "dfPD = group_df[group_df.PD != \"Control\"]"
   ]
  },
  {
   "cell_type": "code",
   "execution_count": 28,
   "metadata": {},
   "outputs": [
    {
     "data": {
      "image/png": "[encoded data removed]",
      "text/plain": [
       "<Figure size 806.4x576 with 1 Axes>"
      ]
     },
     "metadata": {},
     "output_type": "display_data"
    }
   ],
   "source": [
    "sns.set_style(\"ticks\")\n",
    "# colours = [\"grey\", \"grey/blue\"]\n",
    "fig = sns.catplot(x=\"Pre\", y=\"Mooney%Correct\", kind=\"point\", hue=\"PD\", scale=1, dodge=True, \n",
    "                  linestyles=[\"--\", \"-\"], errwidth=0.5, legend_out=False, data=dfPD, capsize=0.01, \n",
    "                  palette=\"Set2\", ci=95, height=8, aspect=1.4)\n",
    "\n",
    "# fig = fig.get_figure()\n",
    "fig.savefig(\"Change%Correct.png\")"
   ]
  },
  {
   "cell_type": "code",
   "execution_count": 261,
   "metadata": {},
   "outputs": [],
   "source": [
    "# colours = [\"grey\", \"grey/blue\"]\n",
    "# fig = sns.catplot(x=\"PD\", y=\"Mooney%Correct\", kind=\"box\", linewidth=0.5, hue=\"Pre%Correct\", legend_out=False, \n",
    "#                   data=dfPD, fliersize=2, palette=sns.xkcd_palette(colours), ci=\"sd\", height=8, aspect=1.0)\n",
    "# # fig = fig.get_figure()\n",
    "# fig.savefig(\"Change%Correct.png\")"
   ]
  },
  {
   "cell_type": "markdown",
   "metadata": {},
   "source": [
    "Plot change in ReactionTime in patients with PD/DLB and hallucinations and those with PD/DLB without hallucinations"
   ]
  },
  {
   "cell_type": "code",
   "execution_count": 300,
   "metadata": {},
   "outputs": [
    {
     "data": {
      "image/png": "[encoded data removed]",
      "text/plain": [
       "<Figure size 806.4x576 with 1 Axes>"
      ]
     },
     "metadata": {},
     "output_type": "display_data"
    }
   ],
   "source": [
    "sns.set_style(\"ticks\")\n",
    "# colours = [\"grey\", \"grey/blue\"]\n",
    "fig = sns.catplot(x=\"Pre\", y=\"RT\", kind=\"point\", hue=\"PD\", scale=1, dodge=True, ci=95, linestyles=[\"--\", \"-\"],\n",
    "                  errwidth=0.5, legend_out=False, data=dfPD, capsize=0.01, palette=\"Set2\", height=8, aspect=1.4)\n",
    "\n",
    "# fig = fig.get_figure()\n",
    "fig.savefig(\"ChangeRT2.png\")"
   ]
  },
  {
   "cell_type": "markdown",
   "metadata": {},
   "source": [
    "Plot change in D prime in patients with PD/DLB and hallucinations and those with PD/DLB without hallucinations"
   ]
  },
  {
   "cell_type": "code",
   "execution_count": 13,
   "metadata": {},
   "outputs": [
    {
     "data": {
      "image/png": "[encoded data removed]",
      "text/plain": [
       "<Figure size 806.4x576 with 1 Axes>"
      ]
     },
     "metadata": {},
     "output_type": "display_data"
    }
   ],
   "source": [
    "sns.set_style(\"ticks\")\n",
    "# colours = [\"grey\", \"grey/blue\"]\n",
    "fig = sns.catplot(x=\"Pre\", y=\"D\", kind=\"point\", hue=\"PD\", scale=1, dodge=True, ci=95, linestyles=[\"--\", \"-\"], \n",
    "                  errwidth=1, legend_out=False, data=dfPD, capsize=0.01, palette=\"Set2\", height=8, aspect=1.4)\n",
    "\n",
    "# fig = fig.get_figure()\n",
    "fig.savefig(\"ChangeD2.png\")"
   ]
  },
  {
   "cell_type": "markdown",
   "metadata": {},
   "source": [
    "Plot change in criterion (c)"
   ]
  },
  {
   "cell_type": "code",
   "execution_count": 15,
   "metadata": {},
   "outputs": [
    {
     "data": {
      "image/png": "[encoded data removed]",
      "text/plain": [
       "<Figure size 806.4x576 with 1 Axes>"
      ]
     },
     "metadata": {},
     "output_type": "display_data"
    }
   ],
   "source": [
    "sns.set_style(\"ticks\")\n",
    "# colours = [\"grey\", \"grey/blue\"]\n",
    "fig = sns.catplot(x=\"Pre\", y=\"\", kind=\"point\", hue=\"PD\", scale=1, dodge=True, ci=95, linestyles=[\"--\", \"-\"], \n",
    "                  errwidth=1, legend_out=False, data=dfPD, capsize=0.01, palette=\"Set2\", height=8, aspect=1.4)\n",
    "\n",
    "# fig = fig.get_figure()\n",
    "fig.savefig(\"ChangeC.png\")"
   ]
  }
 ],
 "metadata": {
  "kernelspec": {
   "display_name": "Python 3",
   "language": "python",
   "name": "python3"
  },
  "language_info": {
   "codemirror_mode": {
    "name": "ipython",
    "version": 3
   },
   "file_extension": ".py",
   "mimetype": "text/x-python",
   "name": "python",
   "nbconvert_exporter": "python",
   "pygments_lexer": "ipython3",
   "version": "3.6.7"
  }
 },
 "nbformat": 4,
 "nbformat_minor": 2
}
